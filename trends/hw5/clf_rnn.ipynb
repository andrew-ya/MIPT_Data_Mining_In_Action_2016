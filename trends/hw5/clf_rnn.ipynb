{
 "cells": [
  {
   "cell_type": "markdown",
   "metadata": {},
   "source": [
    "# Deep learning for Natural Language Processing\n",
    "\n",
    "\n",
    " * Simple text representations, bag of words\n",
    " * Word embedding and... not just another word2vec this time\n",
    " * rnn for text\n",
    " * Aggregating several data sources \"the hard way\"\n",
    " * Solving ~somewhat~ real ML problem with ~almost~ end-to-end deep learning\n",
    " \n",
    "\n",
    "Special thanks to Irina Golzmann for help with technical part, task prepared by Александр Панин, jheuristic@yandex-team.ru"
   ]
  },
  {
   "cell_type": "markdown",
   "metadata": {},
   "source": [
    "# NLTK\n",
    "\n",
    "You will require nltk v3.2 to solve this assignment\n",
    "\n",
    "__It is really important that the version is 3.2, otherwize russian tokenizer might not work__\n",
    "\n",
    "Install/update\n",
    "* `sudo pip install --upgrade nltk==3.2`\n",
    "* If you don't remember when was the last pip upgrade, `sudo pip install --upgrade pip`\n",
    "\n",
    "If for some reason you can't or won't switch to nltk v3.2, just make sure that russian words are tokenized properly with RegeExpTokenizer."
   ]
  },
  {
   "cell_type": "markdown",
   "metadata": {},
   "source": [
    "# For students with low-RAM machines\n",
    " * This assignment can be accomplished with even the low-tier hardware (<= 4Gb RAM) \n",
    " * If that is the case, turn flag \"low_RAM_mode\" below to True\n",
    " * If you have around 8GB memory, it is unlikely that you will feel constrained by memory.\n",
    " * In case you are using a PC from last millenia, consider setting very_low_RAM=True"
   ]
  },
  {
   "cell_type": "code",
   "execution_count": 1,
   "metadata": {
    "collapsed": true
   },
   "outputs": [],
   "source": [
    "low_RAM_mode = True\n",
    "very_low_RAM = False  #If you have <3GB RAM, set BOTH to true"
   ]
  },
  {
   "cell_type": "code",
   "execution_count": 2,
   "metadata": {
    "collapsed": false
   },
   "outputs": [],
   "source": [
    "import pandas as pd\n",
    "import numpy as np\n",
    "import matplotlib.pyplot as plt\n",
    "%matplotlib inline"
   ]
  },
  {
   "cell_type": "markdown",
   "metadata": {},
   "source": [
    "# Dataset\n",
    "\n",
    "Ex-kaggle-competition on prohibited content detection\n",
    "\n",
    "There goes the description - https://www.kaggle.com/c/avito-prohibited-content\n",
    "\n",
    "\n",
    "### Download\n",
    "High-RAM mode,\n",
    " * Download avito_train.tsv from competition data files\n",
    "Low-RAM-mode,\n",
    " * Download downsampled dataset from here\n",
    "     * archive https://yadi.sk/d/l0p4lameqw3W8\n",
    "     * raw https://yadi.sk/d/I1v7mZ6Sqw2WK (in case you feel masochistic)\n",
    " \n",
    "\n",
    "\n",
    "\n",
    "\n",
    "# What's inside\n",
    "Different kinds of features:\n",
    "* 2 text fields - title and description\n",
    "* Special features - price, number of e-mails, phones, etc\n",
    "* Category and subcategory - unsurprisingly, categorical features\n",
    "* Attributes - more factors\n",
    "\n",
    "Only 1 binary target whether or not such advertisement contains prohibited materials\n",
    "* criminal, misleading, human reproduction-related, etc\n",
    "* diving into the data may result in prolonged sleep disorders"
   ]
  },
  {
   "cell_type": "code",
   "execution_count": 3,
   "metadata": {
    "collapsed": false
   },
   "outputs": [],
   "source": [
    "if not low_RAM_mode:\n",
    "    # a lot of ram\n",
    "    df = pd.read_csv(\"avito_train.tsv\",sep='\\t')\n",
    "else:\n",
    "    #aroung 4GB ram\n",
    "    df = pd.read_csv(\"data/avito_train_1kk.tsv\",sep='\\t')\n",
    " "
   ]
  },
  {
   "cell_type": "code",
   "execution_count": 4,
   "metadata": {
    "collapsed": false
   },
   "outputs": [
    {
     "name": "stdout",
     "output_type": "stream",
     "text": [
      "(1204949, 13) 0.228222107326\n"
     ]
    },
    {
     "data": {
      "text/html": [
       "<div>\n",
       "<table border=\"1\" class=\"dataframe\">\n",
       "  <thead>\n",
       "    <tr style=\"text-align: right;\">\n",
       "      <th></th>\n",
       "      <th>itemid</th>\n",
       "      <th>category</th>\n",
       "      <th>subcategory</th>\n",
       "      <th>title</th>\n",
       "      <th>description</th>\n",
       "      <th>attrs</th>\n",
       "      <th>price</th>\n",
       "      <th>is_proved</th>\n",
       "      <th>is_blocked</th>\n",
       "      <th>phones_cnt</th>\n",
       "      <th>emails_cnt</th>\n",
       "      <th>urls_cnt</th>\n",
       "      <th>close_hours</th>\n",
       "    </tr>\n",
       "  </thead>\n",
       "  <tbody>\n",
       "    <tr>\n",
       "      <th>0</th>\n",
       "      <td>10000010</td>\n",
       "      <td>Транспорт</td>\n",
       "      <td>Автомобили с пробегом</td>\n",
       "      <td>Toyota Sera, 1991</td>\n",
       "      <td>Новая оригинальная линзованая оптика на ксенон...</td>\n",
       "      <td>{\"Год выпуска\":\"1991\", \"Тип кузова\":\"Купе\", \"П...</td>\n",
       "      <td>150000</td>\n",
       "      <td>NaN</td>\n",
       "      <td>0</td>\n",
       "      <td>0</td>\n",
       "      <td>0</td>\n",
       "      <td>0</td>\n",
       "      <td>0.03</td>\n",
       "    </tr>\n",
       "    <tr>\n",
       "      <th>1</th>\n",
       "      <td>10000094</td>\n",
       "      <td>Личные вещи</td>\n",
       "      <td>Одежда, обувь, аксессуары</td>\n",
       "      <td>Костюм Steilmann</td>\n",
       "      <td>Юбка и топ из панбархата. Под топ  трикотажная...</td>\n",
       "      <td>{\"Вид одежды\":\"Женская одежда\", \"Предмет одежд...</td>\n",
       "      <td>1500</td>\n",
       "      <td>NaN</td>\n",
       "      <td>0</td>\n",
       "      <td>0</td>\n",
       "      <td>0</td>\n",
       "      <td>0</td>\n",
       "      <td>0.41</td>\n",
       "    </tr>\n",
       "    <tr>\n",
       "      <th>2</th>\n",
       "      <td>10000299</td>\n",
       "      <td>Личные вещи</td>\n",
       "      <td>Детская одежда и обувь</td>\n",
       "      <td>Костюм Didriksons Boardman, размер 100, краги,...</td>\n",
       "      <td>Костюм Didriksons Boardman, в отличном состоян...</td>\n",
       "      <td>{\"Вид одежды\":\"Для мальчиков\", \"Предмет одежды...</td>\n",
       "      <td>3000</td>\n",
       "      <td>NaN</td>\n",
       "      <td>0</td>\n",
       "      <td>0</td>\n",
       "      <td>0</td>\n",
       "      <td>0</td>\n",
       "      <td>5.49</td>\n",
       "    </tr>\n",
       "    <tr>\n",
       "      <th>3</th>\n",
       "      <td>10000309</td>\n",
       "      <td>Недвижимость</td>\n",
       "      <td>Квартиры</td>\n",
       "      <td>1-к квартира, 44 м², 9/20 эт.</td>\n",
       "      <td>В кирпичном пан.-м доме, продается одноком.-ая...</td>\n",
       "      <td>{\"Тип объявления\":\"Продам\", \"Количество комнат...</td>\n",
       "      <td>2642020</td>\n",
       "      <td>NaN</td>\n",
       "      <td>0</td>\n",
       "      <td>1</td>\n",
       "      <td>0</td>\n",
       "      <td>0</td>\n",
       "      <td>22.47</td>\n",
       "    </tr>\n",
       "    <tr>\n",
       "      <th>4</th>\n",
       "      <td>10000317</td>\n",
       "      <td>Услуги</td>\n",
       "      <td>Предложения услуг</td>\n",
       "      <td>Поездки на таможню, печать в паспорте</td>\n",
       "      <td>Поездки на таможню гражданам СНГ для пересечен...</td>\n",
       "      <td>{\"Вид услуги\":\"Деловые услуги\", \"Тип услуги\":\"...</td>\n",
       "      <td>1500</td>\n",
       "      <td>0.0</td>\n",
       "      <td>1</td>\n",
       "      <td>0</td>\n",
       "      <td>0</td>\n",
       "      <td>0</td>\n",
       "      <td>1.43</td>\n",
       "    </tr>\n",
       "  </tbody>\n",
       "</table>\n",
       "</div>"
      ],
      "text/plain": [
       "     itemid      category                subcategory  \\\n",
       "0  10000010     Транспорт      Автомобили с пробегом   \n",
       "1  10000094   Личные вещи  Одежда, обувь, аксессуары   \n",
       "2  10000299   Личные вещи     Детская одежда и обувь   \n",
       "3  10000309  Недвижимость                   Квартиры   \n",
       "4  10000317        Услуги          Предложения услуг   \n",
       "\n",
       "                                               title  \\\n",
       "0                                  Toyota Sera, 1991   \n",
       "1                                   Костюм Steilmann   \n",
       "2  Костюм Didriksons Boardman, размер 100, краги,...   \n",
       "3                      1-к квартира, 44 м², 9/20 эт.   \n",
       "4              Поездки на таможню, печать в паспорте   \n",
       "\n",
       "                                         description  \\\n",
       "0  Новая оригинальная линзованая оптика на ксенон...   \n",
       "1  Юбка и топ из панбархата. Под топ  трикотажная...   \n",
       "2  Костюм Didriksons Boardman, в отличном состоян...   \n",
       "3  В кирпичном пан.-м доме, продается одноком.-ая...   \n",
       "4  Поездки на таможню гражданам СНГ для пересечен...   \n",
       "\n",
       "                                               attrs    price  is_proved  \\\n",
       "0  {\"Год выпуска\":\"1991\", \"Тип кузова\":\"Купе\", \"П...   150000        NaN   \n",
       "1  {\"Вид одежды\":\"Женская одежда\", \"Предмет одежд...     1500        NaN   \n",
       "2  {\"Вид одежды\":\"Для мальчиков\", \"Предмет одежды...     3000        NaN   \n",
       "3  {\"Тип объявления\":\"Продам\", \"Количество комнат...  2642020        NaN   \n",
       "4  {\"Вид услуги\":\"Деловые услуги\", \"Тип услуги\":\"...     1500        0.0   \n",
       "\n",
       "   is_blocked  phones_cnt  emails_cnt  urls_cnt  close_hours  \n",
       "0           0           0           0         0         0.03  \n",
       "1           0           0           0         0         0.41  \n",
       "2           0           0           0         0         5.49  \n",
       "3           0           1           0         0        22.47  \n",
       "4           1           0           0         0         1.43  "
      ]
     },
     "execution_count": 4,
     "metadata": {},
     "output_type": "execute_result"
    }
   ],
   "source": [
    "print (df.shape, df.is_blocked.mean())\n",
    "df[:5]"
   ]
  },
  {
   "cell_type": "markdown",
   "metadata": {},
   "source": [
    "![caption](https://kaggle2.blob.core.windows.net/competitions/kaggle/3929/media/Ad.png)"
   ]
  },
  {
   "cell_type": "code",
   "execution_count": 5,
   "metadata": {
    "collapsed": false
   },
   "outputs": [
    {
     "name": "stdout",
     "output_type": "stream",
     "text": [
      "Blocked ratio 0.228222107326\n",
      "Count: 1204949\n"
     ]
    }
   ],
   "source": [
    "print (\"Blocked ratio\",df.is_blocked.mean())\n",
    "print (\"Count:\",len(df))"
   ]
  },
  {
   "cell_type": "markdown",
   "metadata": {},
   "source": [
    "# Balance-out the classes\n",
    "* Vast majority of data samples are non-prohibited\n",
    " * 250k banned out of 4kk\n",
    " * Let's just downsample random 250k legal samples to make further steps less computationally demanding\n",
    " * If you aim for high Kaggle score, consider a smarter approach to that.\n"
   ]
  },
  {
   "cell_type": "code",
   "execution_count": 6,
   "metadata": {
    "collapsed": false
   },
   "outputs": [
    {
     "name": "stdout",
     "output_type": "stream",
     "text": [
      "Blocked ratio: 0.504583519879\n",
      "Count: 544996\n"
     ]
    }
   ],
   "source": [
    "#downsample\n",
    "\n",
    "sample_size = 270000\n",
    "\n",
    "not_blocked = df[df['is_blocked'] == 0].sample(n=sample_size)\n",
    "\n",
    "df = pd.concat([df[df['is_blocked'] == 1], not_blocked])\n",
    "\n",
    "\n",
    "print (\"Blocked ratio:\",df.is_blocked.mean())\n",
    "print (\"Count:\",len(df))"
   ]
  },
  {
   "cell_type": "code",
   "execution_count": 7,
   "metadata": {
    "collapsed": false
   },
   "outputs": [
    {
     "name": "stdout",
     "output_type": "stream",
     "text": [
      "All tests passed\n"
     ]
    }
   ],
   "source": [
    "assert df.is_blocked.mean() < 0.51\n",
    "assert df.is_blocked.mean() > 0.49\n",
    "assert len(df) <= 560000\n",
    "\n",
    "print(\"All tests passed\")"
   ]
  },
  {
   "cell_type": "code",
   "execution_count": 9,
   "metadata": {
    "collapsed": false
   },
   "outputs": [],
   "source": [
    "#In case your RAM-o-meter is in the red\n",
    "if very_low_RAM:\n",
    "    data = data[::2]"
   ]
  },
  {
   "cell_type": "markdown",
   "metadata": {
    "collapsed": false
   },
   "source": [
    "# Tokenizing\n",
    "\n",
    "First, we create a dictionary of all existing words.\n",
    "Assign each word a number - it's Id"
   ]
  },
  {
   "cell_type": "code",
   "execution_count": 10,
   "metadata": {
    "collapsed": false
   },
   "outputs": [],
   "source": [
    "from nltk.tokenize import RegexpTokenizer\n",
    "from collections import Counter,defaultdict\n",
    "tokenizer = RegexpTokenizer(r\"\\w+\")\n",
    "\n",
    "#Dictionary of tokens\n",
    "token_counts = Counter()\n",
    "\n",
    "#All texts\n",
    "all_texts = np.hstack([df.description.values,df.title.values])\n",
    "\n",
    "\n",
    "#Compute token frequencies\n",
    "for s in all_texts:\n",
    "    if type(s) is not str:\n",
    "        continue\n",
    "    s = s.lower()\n",
    "    tokens = tokenizer.tokenize(s)\n",
    "    for token in tokens:\n",
    "        token_counts[token] +=1\n"
   ]
  },
  {
   "cell_type": "markdown",
   "metadata": {},
   "source": [
    "### Remove rare tokens\n",
    "\n",
    "We are unlikely to make use of words that are only seen a few times throughout the corpora.\n",
    "\n",
    "Again, if you want to beat Kaggle competition metrics, consider doing something better."
   ]
  },
  {
   "cell_type": "code",
   "execution_count": 11,
   "metadata": {
    "collapsed": false
   },
   "outputs": [
    {
     "data": {
      "image/png": "[encoded data removed]",
      "text/plain": [
       "<matplotlib.figure.Figure at 0x7f09c80440f0>"
      ]
     },
     "metadata": {},
     "output_type": "display_data"
    }
   ],
   "source": [
    "#Word frequency distribution, just for kicks\n",
    "_=plt.hist(list(token_counts.values()),range=[0,50],bins=50)"
   ]
  },
  {
   "cell_type": "code",
   "execution_count": 12,
   "metadata": {
    "collapsed": false
   },
   "outputs": [],
   "source": [
    "#Select only the tokens that had at least 10 occurences in the corpora.\n",
    "#Use token_counts.\n",
    "\n",
    "min_count = 10\n",
    "# tokens = <tokens from token_counts keys that had at least min_count occurences throughout the dataset>\n",
    "tokens = [token for token, cnt in token_counts.items() if cnt >= min_count]"
   ]
  },
  {
   "cell_type": "code",
   "execution_count": 13,
   "metadata": {
    "collapsed": true
   },
   "outputs": [],
   "source": [
    "token_to_id = {t:i+1 for i,t in enumerate(tokens)}\n",
    "null_token = \"NULL\"\n",
    "token_to_id[null_token] = 0\n"
   ]
  },
  {
   "cell_type": "code",
   "execution_count": 14,
   "metadata": {
    "collapsed": false
   },
   "outputs": [
    {
     "name": "stdout",
     "output_type": "stream",
     "text": [
      "# Tokens: 87517\n"
     ]
    }
   ],
   "source": [
    "print (\"# Tokens:\",len(token_to_id))\n",
    "if len(token_to_id) < 30000:\n",
    "    print (\"Alarm! It seems like there are too few tokens. Make sure you updated NLTK and applied correct thresholds -- unless you now what you're doing, ofc\")\n",
    "if len(token_to_id) > 1000000:\n",
    "    print( \"Alarm! Too many tokens. You might have messed up when pruning rare ones -- unless you know what you're doin' ofc\")"
   ]
  },
  {
   "cell_type": "markdown",
   "metadata": {},
   "source": [
    "### Replace words with IDs\n",
    "Set a maximum length for titles and descriptions.\n",
    " * If string is longer that that limit - crop it, if less - pad with zeros.\n",
    " * Thus we obtain a matrix of size [n_samples]x[max_length]\n",
    " * Element at i,j - is an identifier of word j within sample i"
   ]
  },
  {
   "cell_type": "code",
   "execution_count": 15,
   "metadata": {
    "collapsed": true
   },
   "outputs": [],
   "source": [
    "def vectorize(strings, token_to_id, max_len=150):\n",
    "    token_matrix = []\n",
    "    for s in strings:\n",
    "        if type(s) is not str:\n",
    "            token_matrix.append([0]*max_len)\n",
    "            continue\n",
    "        s = s.lower()\n",
    "        tokens = tokenizer.tokenize(s)\n",
    "        token_ids = list(map(lambda token: token_to_id.get(token,0), tokens))[:max_len]\n",
    "        token_ids += [0]*(max_len - len(token_ids))\n",
    "        token_matrix.append(token_ids)\n",
    "\n",
    "    return np.array(token_matrix)"
   ]
  },
  {
   "cell_type": "code",
   "execution_count": 16,
   "metadata": {
    "collapsed": false
   },
   "outputs": [],
   "source": [
    "desc_tokens = vectorize(df.description.values,token_to_id,max_len = 150)\n",
    "title_tokens = vectorize(df.title.values,token_to_id,max_len = 15)"
   ]
  },
  {
   "cell_type": "markdown",
   "metadata": {
    "collapsed": false
   },
   "source": [
    "### Data format examples\n"
   ]
  },
  {
   "cell_type": "code",
   "execution_count": 17,
   "metadata": {
    "collapsed": false
   },
   "outputs": [
    {
     "name": "stdout",
     "output_type": "stream",
     "text": [
      "Размер матрицы: (544996, 15)\n",
      "Поездки на таможню, печать в паспорте -> [46066 43844 30235 39532 72926 17751     0     0     0     0] ...\n",
      "Рефлекторно-урогинекологический массаж -> [55441     0 64849     0     0     0     0     0     0     0] ...\n",
      "Возьму суду под200 т. р -> [43129 11543     0  8207 29199     0     0     0     0     0] ...\n"
     ]
    }
   ],
   "source": [
    "print(\"Размер матрицы:\",title_tokens.shape)\n",
    "for title, tokens in zip(df.title.values[:3],title_tokens[:3]):\n",
    "    print (title,'->', tokens[:10],'...')"
   ]
  },
  {
   "cell_type": "markdown",
   "metadata": {},
   "source": [
    "__ As you can see, our preprocessing is somewhat crude. Let us see if that is enough for our network __"
   ]
  },
  {
   "cell_type": "markdown",
   "metadata": {},
   "source": [
    "# Non-sequences\n",
    "\n",
    "\n",
    "Some data features are not text samples. E.g. price, # urls, category, etc\n",
    "\n",
    "They require a separate preprocessing."
   ]
  },
  {
   "cell_type": "code",
   "execution_count": 18,
   "metadata": {
    "collapsed": true
   },
   "outputs": [],
   "source": [
    "#All numeric features\n",
    "df_numerical_features = df[[\"phones_cnt\",\"emails_cnt\",\"urls_cnt\",\"price\"]]\n"
   ]
  },
  {
   "cell_type": "code",
   "execution_count": 19,
   "metadata": {
    "collapsed": false
   },
   "outputs": [],
   "source": [
    "#One-hot-encoded category and subcategory\n",
    "\n",
    "from sklearn.feature_extraction import DictVectorizer\n",
    "\n",
    "categories = []\n",
    "data_cat_subcat = df[[\"category\",\"subcategory\"]].values\n",
    "\n",
    "# categories = [A list of dictionaries {\"category\":category_name, \"subcategory\":subcategory_name} for each data sample]\n",
    "categories = [{\"category\":row[0], \"subcategory\":row[1]} for row in data_cat_subcat]\n",
    "\n",
    "\n",
    "vectorizer = DictVectorizer(sparse=False)\n",
    "cat_one_hot = vectorizer.fit_transform(categories)\n",
    "cat_one_hot = pd.DataFrame(cat_one_hot,columns=vectorizer.feature_names_)"
   ]
  },
  {
   "cell_type": "code",
   "execution_count": 20,
   "metadata": {
    "collapsed": false
   },
   "outputs": [],
   "source": [
    "df_non_text = pd.merge(\n",
    "    df_numerical_features,cat_one_hot,on = np.arange(len(cat_one_hot))\n",
    ")\n",
    "del df_non_text[\"key_0\"]"
   ]
  },
  {
   "cell_type": "markdown",
   "metadata": {},
   "source": [
    "# Split data into training and test"
   ]
  },
  {
   "cell_type": "code",
   "execution_count": 62,
   "metadata": {
    "collapsed": false
   },
   "outputs": [],
   "source": [
    "#Target variable - whether or not sample contains prohibited material\n",
    "target = df.is_blocked.values.astype('int32')\n",
    "#Preprocessed titles\n",
    "title_tokens = title_tokens.astype('int32')\n",
    "#Preprocessed tokens\n",
    "desc_tokens = desc_tokens.astype('int32')\n",
    "\n",
    "#Non-sequences\n",
    "df_non_text = df_non_text.astype('float32').as_matrix()"
   ]
  },
  {
   "cell_type": "code",
   "execution_count": 63,
   "metadata": {
    "collapsed": true
   },
   "outputs": [],
   "source": [
    "#Split into training and test set.\n",
    "\n",
    "\n",
    "#Difficulty selector:\n",
    "#Easy: split randomly\n",
    "#Medium: select test set items that have item_ids strictly above that of training set\n",
    "#Hard: do whatever you want, but score yourself using kaggle private leaderboard\n",
    "\n",
    "from sklearn.model_selection import train_test_split\n",
    "\n",
    "title_tr,title_ts,desc_tr,desc_ts,nontext_tr,nontext_ts,target_tr,target_ts = train_test_split(title_tokens, desc_tokens,\n",
    "                                                                                              df_non_text, target, test_size=0.2)"
   ]
  },
  {
   "cell_type": "markdown",
   "metadata": {},
   "source": [
    "## Save preprocessed data [optional]\n",
    "\n",
    "* The next tab can be used to stash all the essential data matrices and get rid of the rest of the data.\n",
    " * Highly recommended if you have less than 1.5GB RAM left\n",
    "* To do that, you need to first run it with save_prepared_data=True, then restart the notebook and only run this tab with read_prepared_data=True."
   ]
  },
  {
   "cell_type": "code",
   "execution_count": null,
   "metadata": {
    "collapsed": false
   },
   "outputs": [],
   "source": [
    "save_prepared_data = True #save\n",
    "read_prepared_data = False #load\n",
    "\n",
    "#but not both at once\n",
    "assert not (save_prepared_data and read_prepared_data)\n",
    "\n",
    "if save_prepared_data:\n",
    "    print (\"Saving preprocessed data (may take up to 3 minutes)\")\n",
    "\n",
    "    import pickle\n",
    "    with open(\"preprocessed_data.pcl\",'w') as fout:\n",
    "        pickle.dump(data_tuple,fout)\n",
    "    with open(\"token_to_id.pcl\",'w') as fout:\n",
    "        pickle.dump(token_to_id,fout)\n",
    "\n",
    "    print (\"готово\")\n",
    "    \n",
    "elif read_prepared_data:\n",
    "    print (\"Reading saved data...\")\n",
    "    \n",
    "    import pickle\n",
    "    \n",
    "    with open(\"preprocessed_data.pcl\",'r') as fin:\n",
    "        data_tuple = pickle.load(fin)\n",
    "    title_tr,title_ts,desc_tr,desc_ts,nontext_tr,nontext_ts,target_tr,target_ts = data_tuple\n",
    "    with open(\"token_to_id.pcl\",'r') as fin:\n",
    "        token_to_id = pickle.load(fin)\n",
    "        \n",
    "    #Re-importing libraries to allow staring noteboook from here\n",
    "    import pandas as pd\n",
    "    import numpy as np\n",
    "    import matplotlib.pyplot as plt\n",
    "    %matplotlib inline\n",
    "   \n",
    "    print (\"done\")        "
   ]
  },
  {
   "cell_type": "markdown",
   "metadata": {},
   "source": [
    "# Train the monster\n",
    "\n",
    "Since we have several data sources, our neural network may differ from what you used to work with.\n",
    "\n",
    "* Separate input for titles: RNN\n",
    "* Separate input for description: RNN\n",
    "* Separate input for categorical features: обычные полносвязные слои или какие-нибудь трюки\n",
    " \n",
    "These three inputs must be blended somehow - concatenated or added.\n",
    "\n",
    "* Output: a simple binary classification\n",
    " * 1 sigmoidal with binary_crossentropy\n",
    " * 2 softmax with categorical_crossentropy - essentially the same as previous one\n",
    " * 1 neuron without nonlinearity (lambda x: x) +  hinge loss\n",
    " "
   ]
  },
  {
   "cell_type": "code",
   "execution_count": 23,
   "metadata": {
    "collapsed": false
   },
   "outputs": [
    {
     "name": "stderr",
     "output_type": "stream",
     "text": [
      "WARNING (theano.gof.compilelock): Overriding existing lock by dead process '9785' (I am process '9815')\n"
     ]
    }
   ],
   "source": [
    "#libraries\n",
    "import lasagne\n",
    "from theano import tensor as T\n",
    "import theano"
   ]
  },
  {
   "cell_type": "code",
   "execution_count": 24,
   "metadata": {
    "collapsed": true
   },
   "outputs": [],
   "source": [
    "#3 inputs and a refere output\n",
    "title_token_ids = T.matrix(\"title_token_ids\",dtype='int32')\n",
    "desc_token_ids = T.matrix(\"desc_token_ids\",dtype='int32')\n",
    "categories = T.matrix(\"categories\",dtype='float32')\n",
    "target_y = T.ivector(\"is_blocked\")"
   ]
  },
  {
   "cell_type": "markdown",
   "metadata": {},
   "source": [
    "# NN architecture"
   ]
  },
  {
   "cell_type": "code",
   "execution_count": 25,
   "metadata": {
    "collapsed": false
   },
   "outputs": [],
   "source": [
    "title_inp = lasagne.layers.InputLayer((None,title_tr.shape[1]),input_var=title_token_ids)\n",
    "descr_inp = lasagne.layers.InputLayer((None,desc_tr.shape[1]),input_var=desc_token_ids)\n",
    "cat_inp = lasagne.layers.InputLayer((None,nontext_tr.shape[1]), input_var=categories)"
   ]
  },
  {
   "cell_type": "code",
   "execution_count": 38,
   "metadata": {
    "collapsed": true
   },
   "outputs": [],
   "source": [
    "# Descriptions\n",
    "\n",
    "output_size = 64\n",
    "\n",
    "#word-wise embedding. We recommend to start from some 64 and improving after you are certain it works.\n",
    "descr_nn = lasagne.layers.EmbeddingLayer(descr_inp, input_size=len(token_to_id)+1, output_size=output_size)\n",
    "descr_nn = lasagne.layers.LSTMLayer(descr_nn, num_units=15)\n",
    "descr_nn = lasagne.layers.DenseLayer(descr_nn,100)\n",
    "\n",
    "# Titles\n",
    "title_nn = lasagne.layers.EmbeddingLayer(title_inp, input_size=len(token_to_id)+1, output_size=output_size)\n",
    "title_nn = lasagne.layers.LSTMLayer(title_nn, num_units=15)\n",
    "title_nn = lasagne.layers.DenseLayer(title_nn,100)\n",
    "\n",
    "# Non-sequences\n",
    "cat_nn = lasagne.layers.DenseLayer(cat_inp,100)\n",
    "cat_nn = lasagne.layers.DenseLayer(cat_nn,100)\n",
    "cat_nn = lasagne.layers.DenseLayer(cat_nn,100)"
   ]
  },
  {
   "cell_type": "code",
   "execution_count": 39,
   "metadata": {
    "collapsed": false
   },
   "outputs": [
    {
     "name": "stdout",
     "output_type": "stream",
     "text": [
      "(None, 300)\n"
     ]
    }
   ],
   "source": [
    "nn = lasagne.layers.ConcatLayer([descr_nn, title_nn, cat_nn])                                  \n",
    "\n",
    "print(nn.output_shape)"
   ]
  },
  {
   "cell_type": "code",
   "execution_count": 41,
   "metadata": {
    "collapsed": true
   },
   "outputs": [],
   "source": [
    "nn = lasagne.layers.DenseLayer(nn, 150)\n",
    "nn = lasagne.layers.DropoutLayer(nn, p=0.5)\n",
    "nn = lasagne.layers.DenseLayer(nn,1,nonlinearity=lasagne.nonlinearities.linear)"
   ]
  },
  {
   "cell_type": "markdown",
   "metadata": {},
   "source": [
    "# Loss function\n",
    "\n",
    "* The standard way:\n",
    " * prediction\n",
    " * loss\n",
    " * updates\n",
    " * training and evaluation functions\n",
    " \n",
    " \n",
    "* Hinge loss\n",
    " * $ L_i = \\max(0, \\delta - t_i p_i) $\n",
    " * delta is a tunable parameter: how far should a neuron be in the positive margin area for us to stop bothering about it\n",
    " * Function description may mention some +-1  limitations - this is not neccessary, at least as long as hinge loss has a __default__ flag `binary = True`"
   ]
  },
  {
   "cell_type": "code",
   "execution_count": 42,
   "metadata": {
    "collapsed": true
   },
   "outputs": [],
   "source": [
    "#All trainable params\n",
    "weights = lasagne.layers.get_all_params(nn,trainable=True)"
   ]
  },
  {
   "cell_type": "code",
   "execution_count": 44,
   "metadata": {
    "collapsed": false
   },
   "outputs": [],
   "source": [
    "#Simple NN prediction\n",
    "prediction = lasagne.layers.get_output(nn)[:,0]\n",
    "\n",
    "#Hinge loss\n",
    "loss = lasagne.objectives.binary_hinge_loss(prediction,target_y,delta = 1).mean()"
   ]
  },
  {
   "cell_type": "code",
   "execution_count": 50,
   "metadata": {
    "collapsed": false
   },
   "outputs": [],
   "source": [
    "#Weight optimization step\n",
    "updates = lasagne.updates.adadelta(loss, weights)"
   ]
  },
  {
   "cell_type": "markdown",
   "metadata": {},
   "source": [
    "### Determinitic prediction \n",
    " * In case we use stochastic elements, e.g. dropout or noize\n",
    " * Compile a separate set of functions with deterministic prediction (deterministic = True)\n",
    " * Unless you think there's no neet for dropout there ofc. Btw is there?"
   ]
  },
  {
   "cell_type": "code",
   "execution_count": 51,
   "metadata": {
    "collapsed": false
   },
   "outputs": [],
   "source": [
    "#deterministic version\n",
    "det_prediction = lasagne.layers.get_output(nn,deterministic=True)[:,0]\n",
    "\n",
    "#equivalent loss function\n",
    "det_loss = lasagne.objectives.binary_hinge_loss(det_prediction,target_y,delta = 1).mean()"
   ]
  },
  {
   "cell_type": "markdown",
   "metadata": {},
   "source": [
    "### Coffee-lation"
   ]
  },
  {
   "cell_type": "code",
   "execution_count": 52,
   "metadata": {
    "collapsed": false
   },
   "outputs": [],
   "source": [
    "train_fun = theano.function([desc_token_ids,title_token_ids,categories,target_y],[loss,prediction],updates = updates)\n",
    "eval_fun = theano.function([desc_token_ids,title_token_ids,categories,target_y],[det_loss,det_prediction])"
   ]
  },
  {
   "cell_type": "markdown",
   "metadata": {},
   "source": [
    "# Training loop\n",
    "* The regular way with loops over minibatches\n",
    "* Since the dataset is huge, we define epoch as some fixed amount of samples isntead of all dataset"
   ]
  },
  {
   "cell_type": "code",
   "execution_count": 54,
   "metadata": {
    "collapsed": false
   },
   "outputs": [],
   "source": [
    "#average precision at K\n",
    "\n",
    "from oracle import APatK, score"
   ]
  },
  {
   "cell_type": "code",
   "execution_count": 55,
   "metadata": {
    "collapsed": false
   },
   "outputs": [],
   "source": [
    "# Out good old minibatch iterator now supports arbitrary amount of arrays (X,y,z)\n",
    "\n",
    "def iterate_minibatches(*arrays,**kwargs):\n",
    "    batchsize=kwargs.get(\"batchsize\",100)\n",
    "    shuffle = kwargs.get(\"shuffle\",True)\n",
    "    \n",
    "    if shuffle:\n",
    "        indices = np.arange(len(arrays[0]))\n",
    "        np.random.shuffle(indices)\n",
    "    for start_idx in range(0, len(arrays[0]) - batchsize + 1, batchsize):\n",
    "        if shuffle:\n",
    "            excerpt = indices[start_idx:start_idx + batchsize]\n",
    "        else:\n",
    "            excerpt = slice(start_idx, start_idx + batchsize)\n",
    "        yield [arr[excerpt] for arr in arrays]"
   ]
  },
  {
   "cell_type": "markdown",
   "metadata": {},
   "source": [
    "### Tweaking guide\n",
    "\n",
    "* batch_size - how many samples are processed per function call\n",
    "  * optimization gets slower, but more stable, as you increase it.\n",
    "  * May consider increasing it halfway through training\n",
    "* minibatches_per_epoch - max amount of minibatches per epoch\n",
    "  * Does not affect training. Lesser value means more frequent and less stable printing\n",
    "  * Setting it to less than 10 is only meaningfull if you want to make sure your NN does not break down after one epoch\n",
    "* n_epochs - total amount of epochs to train for\n",
    "  * `n_epochs = 10**10` and manual interrupting is still an option\n",
    "\n",
    "\n",
    "Tips:\n",
    "\n",
    "* With small minibatches_per_epoch, network quality may jump around 0.5 for several epochs\n",
    "\n",
    "* AUC is the most stable of all three metrics\n",
    "\n",
    "* Average Precision at top 2.5% (APatK) - is the least stable. If batch_size*minibatches_per_epoch < 10k, it behaves as a uniform random variable.\n",
    "\n",
    "* Plotting metrics over training time may be a good way to analyze which architectures work better.\n",
    "\n",
    "* Once you are sure your network aint gonna crash, it's worth letting it train for a few hours of an average laptop's time to see it's true potential"
   ]
  },
  {
   "cell_type": "code",
   "execution_count": 64,
   "metadata": {
    "collapsed": false
   },
   "outputs": [
    {
     "name": "stdout",
     "output_type": "stream",
     "text": [
      "Train:\n",
      "\tloss: 163.188452437\n",
      "\tacc: 0.628217821782\n",
      "\tauc: 0.664163047829\n",
      "\tap@k: 0.134324784338\n",
      "Val:\n",
      "\tloss: 160.270746341\n",
      "\tacc: 0.497623762376\n",
      "\tauc: 0.494416807089\n",
      "\tap@k: 0.539276254177\n",
      "Train:\n",
      "\tloss: 71.9873782256\n",
      "\tacc: 0.618118811881\n",
      "\tauc: 0.61617484662\n",
      "\tap@k: 0.0681505809947\n",
      "Val:\n",
      "\tloss: 103.920364773\n",
      "\tacc: 0.499306930693\n",
      "\tauc: 0.495444828161\n",
      "\tap@k: 0.463459624637\n",
      "Train:\n",
      "\tloss: 6.41352062986\n",
      "\tacc: 0.584356435644\n",
      "\tauc: 0.587562048414\n",
      "\tap@k: 0.150329714934\n",
      "Val:\n",
      "\tloss: 0.992760319393\n",
      "\tacc: 0.505841584158\n",
      "\tauc: 0.500740048078\n",
      "\tap@k: 0.668565064831\n",
      "Train:\n",
      "\tloss: 0.987904554911\n",
      "\tacc: 0.508712871287\n",
      "\tauc: 0.501280224059\n",
      "\tap@k: 0.497332401198\n",
      "Val:\n",
      "\tloss: 1.00108282529\n",
      "\tacc: 0.499306930693\n",
      "\tauc: 0.523937307046\n",
      "\tap@k: 0.637949007509\n",
      "Train:\n",
      "\tloss: 0.990954535141\n",
      "\tacc: 0.505940594059\n",
      "\tauc: 0.498807438752\n",
      "\tap@k: 0.500982563127\n",
      "Val:\n",
      "\tloss: 0.981123728848\n",
      "\tacc: 0.511881188119\n",
      "\tauc: 0.509316896905\n",
      "\tap@k: 0.73188092053\n",
      "Train:\n",
      "\tloss: 0.986239023952\n",
      "\tacc: 0.508613861386\n",
      "\tauc: 0.501823872361\n",
      "\tap@k: 0.50580836615\n",
      "Val:\n",
      "\tloss: 0.987425195775\n",
      "\tacc: 0.508613861386\n",
      "\tauc: 0.50239037713\n",
      "\tap@k: 0.564140604231\n",
      "Train:\n",
      "\tloss: 0.986063772765\n",
      "\tacc: 0.50900990099\n",
      "\tauc: 0.501148083807\n",
      "\tap@k: 0.603676981972\n",
      "Val:\n",
      "\tloss: 0.996233810681\n",
      "\tacc: 0.502178217822\n",
      "\tauc: 0.484868294334\n",
      "\tap@k: 0.447233817368\n",
      "Train:\n",
      "\tloss: 0.992333979336\n",
      "\tacc: 0.505445544554\n",
      "\tauc: 0.497748483057\n",
      "\tap@k: 0.511749122358\n",
      "Val:\n",
      "\tloss: 0.999545685357\n",
      "\tacc: 0.500297029703\n",
      "\tauc: 0.5\n",
      "\tap@k: 0.443793355875\n",
      "Train:\n",
      "\tloss: 0.992951035541\n",
      "\tacc: 0.50495049505\n",
      "\tauc: 0.500156627451\n",
      "\tap@k: 0.520897297662\n",
      "Val:\n",
      "\tloss: 0.986495713222\n",
      "\tacc: 0.508316831683\n",
      "\tauc: 0.5\n",
      "\tap@k: 0.491350521957\n",
      "Train:\n",
      "\tloss: 0.982743771138\n",
      "\tacc: 0.510594059406\n",
      "\tauc: 0.504714772255\n",
      "\tap@k: 0.519477980899\n",
      "Val:\n",
      "\tloss: 0.989141560636\n",
      "\tacc: 0.507623762376\n",
      "\tauc: 0.500100542932\n",
      "\tap@k: 0.576395856909\n",
      "Train:\n",
      "\tloss: 1.0053033241\n",
      "\tacc: 0.496831683168\n",
      "\tauc: 0.494691444527\n",
      "\tap@k: 0.464029723764\n",
      "Val:\n",
      "\tloss: 0.99442581813\n",
      "\tacc: 0.505247524752\n",
      "\tauc: 0.499899939964\n",
      "\tap@k: 0.469341028539\n",
      "Train:\n",
      "\tloss: 0.996279693833\n",
      "\tacc: 0.503762376238\n",
      "\tauc: 0.49382166762\n",
      "\tap@k: 0.500175280449\n",
      "Val:\n",
      "\tloss: 0.999334337211\n",
      "\tacc: 0.500495049505\n",
      "\tauc: 0.5\n",
      "\tap@k: 0.526497950051\n",
      "Train:\n",
      "\tloss: 0.992659088755\n",
      "\tacc: 0.505742574257\n",
      "\tauc: 0.495003595416\n",
      "\tap@k: 0.443638468977\n",
      "Val:\n",
      "\tloss: 0.991479081791\n",
      "\tacc: 0.505346534653\n",
      "\tauc: 0.500002098073\n",
      "\tap@k: 0.516092054713\n",
      "Train:\n",
      "\tloss: 0.996885306699\n",
      "\tacc: 0.502574257426\n",
      "\tauc: 0.497646952626\n",
      "\tap@k: 0.529283204953\n",
      "Val:\n",
      "\tloss: 0.999136537837\n",
      "\tacc: 0.500594059406\n",
      "\tauc: 0.5\n",
      "\tap@k: 0.45399603956\n",
      "Train:\n",
      "\tloss: 0.983700481821\n",
      "\tacc: 0.510396039604\n",
      "\tauc: 0.500973286167\n",
      "\tap@k: 0.504224951912\n",
      "Val:\n",
      "\tloss: 0.982130887789\n",
      "\tacc: 0.511584158416\n",
      "\tauc: 0.5\n",
      "\tap@k: 0.526728716193\n",
      "Train:\n",
      "\tloss: 1.00162075197\n",
      "\tacc: 0.499900990099\n",
      "\tauc: 0.491812194562\n",
      "\tap@k: 0.508228294528\n",
      "Val:\n",
      "\tloss: 0.999157628278\n",
      "\tacc: 0.500594059406\n",
      "\tauc: 0.5\n",
      "\tap@k: 0.540271375437\n",
      "Train:\n",
      "\tloss: 0.994177270948\n",
      "\tacc: 0.504455445545\n",
      "\tauc: 0.494787097103\n",
      "\tap@k: 0.521225591594\n",
      "Val:\n",
      "\tloss: 0.982404226415\n",
      "\tacc: 0.512277227723\n",
      "\tauc: 0.5\n",
      "\tap@k: 0.519505240475\n",
      "Train:\n",
      "\tloss: 0.998436519724\n",
      "\tacc: 0.500297029703\n",
      "\tauc: 0.507605864855\n",
      "\tap@k: 0.52720979064\n",
      "Val:\n",
      "\tloss: 0.98591249241\n",
      "\tacc: 0.509207920792\n",
      "\tauc: 0.5\n",
      "\tap@k: 0.495148842953\n",
      "Train:\n",
      "\tloss: 0.994257245277\n",
      "\tacc: 0.503168316832\n",
      "\tauc: 0.506969753437\n",
      "\tap@k: 0.484592856819\n",
      "Val:\n",
      "\tloss: 0.988577365701\n",
      "\tacc: 0.507128712871\n",
      "\tauc: 0.5\n",
      "\tap@k: 0.482533275298\n",
      "Train:\n",
      "\tloss: 0.99535745901\n",
      "\tacc: 0.503663366337\n",
      "\tauc: 0.497006034752\n",
      "\tap@k: 0.504798584532\n",
      "Val:\n",
      "\tloss: 0.987854091755\n",
      "\tacc: 0.50801980198\n",
      "\tauc: 0.5\n",
      "\tap@k: 0.475395555006\n",
      "Train:\n",
      "\tloss: 0.993091066486\n",
      "\tacc: 0.505544554455\n",
      "\tauc: 0.494626493429\n",
      "\tap@k: 0.472980251938\n",
      "Val:\n",
      "\tloss: 0.994321169064\n",
      "\tacc: 0.504653465347\n",
      "\tauc: 0.5\n",
      "\tap@k: 0.573939652986\n",
      "Train:\n",
      "\tloss: 0.986006087504\n",
      "\tacc: 0.510594059406\n",
      "\tauc: 0.489487702959\n",
      "\tap@k: 0.45669110974\n",
      "Val:\n",
      "\tloss: 0.996233122228\n",
      "\tacc: 0.502673267327\n",
      "\tauc: 0.5\n",
      "\tap@k: 0.470878626739\n",
      "Train:\n",
      "\tloss: 1.00275296564\n",
      "\tacc: 0.498118811881\n",
      "\tauc: 0.49793791807\n",
      "\tap@k: 0.444181922704\n",
      "Val:\n",
      "\tloss: 0.992074939312\n",
      "\tacc: 0.505841584158\n",
      "\tauc: 0.5\n",
      "\tap@k: 0.467690811659\n",
      "Train:\n",
      "\tloss: 0.993480788762\n",
      "\tacc: 0.505544554455\n",
      "\tauc: 0.490223128702\n",
      "\tap@k: 0.499317388203\n",
      "Val:\n",
      "\tloss: 0.99383444818\n",
      "\tacc: 0.504059405941\n",
      "\tauc: 0.5\n",
      "\tap@k: 0.476858372502\n",
      "Train:\n",
      "\tloss: 0.989419028477\n",
      "\tacc: 0.507920792079\n",
      "\tauc: 0.490414612431\n",
      "\tap@k: 0.440516460217\n",
      "Val:\n",
      "\tloss: 0.995782404155\n",
      "\tacc: 0.502574257426\n",
      "\tauc: 0.499900477707\n",
      "\tap@k: 0.512031102507\n",
      "Train:\n",
      "\tloss: 0.99451982306\n",
      "\tacc: 0.504356435644\n",
      "\tauc: 0.491817318237\n",
      "\tap@k: 0.444385195938\n",
      "Val:\n",
      "\tloss: 0.979481446754\n",
      "\tacc: 0.512772277228\n",
      "\tauc: 0.500101605365\n",
      "\tap@k: 0.5181948984\n",
      "Train:\n",
      "\tloss: 0.981095752493\n",
      "\tacc: 0.511188118812\n",
      "\tauc: 0.506097455481\n",
      "\tap@k: 0.472369674083\n",
      "Val:\n",
      "\tloss: 0.997290173935\n",
      "\tacc: 0.501683168317\n",
      "\tauc: 0.5\n",
      "\tap@k: 0.472992399118\n",
      "Train:\n",
      "\tloss: 1.00051661185\n",
      "\tacc: 0.499702970297\n",
      "\tauc: 0.499759415659\n",
      "\tap@k: 0.512514989563\n",
      "Val:\n",
      "\tloss: 0.990418409065\n",
      "\tacc: 0.50603960396\n",
      "\tauc: 0.5\n",
      "\tap@k: 0.430664534608\n",
      "Train:\n",
      "\tloss: 0.990928585597\n",
      "\tacc: 0.505742574257\n",
      "\tauc: 0.503119517461\n",
      "\tap@k: 0.545400678454\n",
      "Val:\n",
      "\tloss: 1.01046370014\n",
      "\tacc: 0.493465346535\n",
      "\tauc: 0.499997391967\n",
      "\tap@k: 0.449863079509\n",
      "Train:\n",
      "\tloss: 1.00160691453\n",
      "\tacc: 0.49900990099\n",
      "\tauc: 0.500164886442\n",
      "\tap@k: 0.457337050688\n",
      "Val:\n",
      "\tloss: 0.989431295947\n",
      "\tacc: 0.50702970297\n",
      "\tauc: 0.5\n",
      "\tap@k: 0.542183479675\n",
      "Train:\n",
      "\tloss: 0.997077784241\n",
      "\tacc: 0.503069306931\n",
      "\tauc: 0.490472869108\n",
      "\tap@k: 0.504205752035\n",
      "Val:\n",
      "\tloss: 0.989903277048\n",
      "\tacc: 0.506435643564\n",
      "\tauc: 0.5\n",
      "\tap@k: 0.555271378376\n",
      "Train:\n",
      "\tloss: 0.982646397317\n",
      "\tacc: 0.511386138614\n",
      "\tauc: 0.495231033444\n",
      "\tap@k: 0.530463767613\n",
      "Val:\n",
      "\tloss: 0.996019069329\n",
      "\tacc: 0.502574257426\n",
      "\tauc: 0.499901497242\n",
      "\tap@k: 0.468533318223\n",
      "Train:\n",
      "\tloss: 1.00149771457\n",
      "\tacc: 0.497920792079\n",
      "\tauc: 0.511486425469\n",
      "\tap@k: 0.499220817415\n",
      "Val:\n",
      "\tloss: 0.981357565507\n",
      "\tacc: 0.513267326733\n",
      "\tauc: 0.5\n",
      "\tap@k: 0.53796532055\n",
      "Train:\n",
      "\tloss: 1.0015638054\n",
      "\tacc: 0.499801980198\n",
      "\tauc: 0.492286284448\n",
      "\tap@k: 0.492344794359\n",
      "Val:\n",
      "\tloss: 0.993454777772\n",
      "\tacc: 0.504653465347\n",
      "\tauc: 0.500099940036\n",
      "\tap@k: 0.495649348799\n",
      "Train:\n",
      "\tloss: 0.999646624726\n",
      "\tacc: 0.500594059406\n",
      "\tauc: 0.497150902752\n",
      "\tap@k: 0.48453968883\n",
      "Val:\n",
      "\tloss: 0.991102980155\n",
      "\tacc: 0.506435643564\n",
      "\tauc: 0.5\n",
      "\tap@k: 0.580350234965\n",
      "Train:\n",
      "\tloss: 0.997245393872\n",
      "\tacc: 0.501881188119\n",
      "\tauc: 0.501747049532\n",
      "\tap@k: 0.403682536668\n",
      "Val:\n",
      "\tloss: 0.990755132664\n",
      "\tacc: 0.506138613861\n",
      "\tauc: 0.499902190923\n",
      "\tap@k: 0.447471482272\n",
      "Train:\n",
      "\tloss: 0.995682979896\n",
      "\tacc: 0.50297029703\n",
      "\tauc: 0.498602146532\n",
      "\tap@k: 0.509602422268\n",
      "Val:\n",
      "\tloss: 0.993915393469\n",
      "\tacc: 0.504059405941\n",
      "\tauc: 0.5\n",
      "\tap@k: 0.483974746951\n",
      "Train:\n",
      "\tloss: 0.99692537302\n",
      "\tacc: 0.50198019802\n",
      "\tauc: 0.50086986954\n",
      "\tap@k: 0.480934661374\n",
      "Val:\n",
      "\tloss: 0.988007206093\n",
      "\tacc: 0.507920792079\n",
      "\tauc: 0.5\n",
      "\tap@k: 0.492461931785\n",
      "Train:\n",
      "\tloss: 0.988775644683\n",
      "\tacc: 0.506435643564\n",
      "\tauc: 0.506918409187\n",
      "\tap@k: 0.51109235451\n",
      "Val:\n",
      "\tloss: 1.00318065916\n",
      "\tacc: 0.497920792079\n",
      "\tauc: 0.5\n",
      "\tap@k: 0.498984326105\n",
      "Train:\n",
      "\tloss: 0.980260911202\n",
      "\tacc: 0.51297029703\n",
      "\tauc: 0.493938063763\n",
      "\tap@k: 0.561211263536\n",
      "Val:\n",
      "\tloss: 0.976679778556\n",
      "\tacc: 0.514356435644\n",
      "\tauc: 0.5\n",
      "\tap@k: 0.483143117268\n",
      "Train:\n",
      "\tloss: 0.998796707208\n",
      "\tacc: 0.501485148515\n",
      "\tauc: 0.494022748951\n",
      "\tap@k: 0.557732374044\n",
      "Val:\n",
      "\tloss: 0.985585394986\n",
      "\tacc: 0.509603960396\n",
      "\tauc: 0.5\n",
      "\tap@k: 0.520051541292\n",
      "Train:\n",
      "\tloss: 1.00151450077\n",
      "\tacc: 0.499306930693\n",
      "\tauc: 0.496905728787\n",
      "\tap@k: 0.412932373347\n",
      "Val:\n",
      "\tloss: 0.993243121634\n",
      "\tacc: 0.504653465347\n",
      "\tauc: 0.5\n",
      "\tap@k: 0.43292612677\n",
      "Train:\n",
      "\tloss: 0.983768087169\n",
      "\tacc: 0.51\n",
      "\tauc: 0.502551397973\n",
      "\tap@k: 0.481854502798\n",
      "Val:\n",
      "\tloss: 0.998881382038\n",
      "\tacc: 0.500693069307\n",
      "\tauc: 0.500099147333\n",
      "\tap@k: 0.519442779972\n",
      "Train:\n",
      "\tloss: 0.997374632447\n",
      "\tacc: 0.502574257426\n",
      "\tauc: 0.491578190642\n",
      "\tap@k: 0.471603398202\n",
      "Val:\n",
      "\tloss: 0.979708994143\n",
      "\tacc: 0.512673267327\n",
      "\tauc: 0.5\n",
      "\tap@k: 0.571680991976\n",
      "Train:\n",
      "\tloss: 0.994816798967\n",
      "\tacc: 0.502772277228\n",
      "\tauc: 0.505585977038\n",
      "\tap@k: 0.477438937594\n",
      "Val:\n",
      "\tloss: 0.984685300993\n",
      "\tacc: 0.509603960396\n",
      "\tauc: 0.5\n",
      "\tap@k: 0.490125705873\n",
      "Train:\n",
      "\tloss: 0.998070085334\n",
      "\tacc: 0.502178217822\n",
      "\tauc: 0.490953519126\n",
      "\tap@k: 0.426410539846\n",
      "Val:\n",
      "\tloss: 0.979174591259\n",
      "\tacc: 0.513069306931\n",
      "\tauc: 0.5\n",
      "\tap@k: 0.461697012628\n",
      "Train:\n",
      "\tloss: 0.977140503199\n",
      "\tacc: 0.513861386139\n",
      "\tauc: 0.499137029145\n",
      "\tap@k: 0.472676164034\n",
      "Val:\n",
      "\tloss: 0.98453713176\n",
      "\tacc: 0.509306930693\n",
      "\tauc: 0.5\n",
      "\tap@k: 0.59368059089\n",
      "Train:\n",
      "\tloss: 0.989995440463\n",
      "\tacc: 0.505742574257\n",
      "\tauc: 0.503600592585\n",
      "\tap@k: 0.463020555492\n"
     ]
    },
    {
     "ename": "KeyboardInterrupt",
     "evalue": "",
     "output_type": "error",
     "traceback": [
      "\u001b[0;31m---------------------------------------------------------------------------\u001b[0m",
      "\u001b[0;31mKeyboardInterrupt\u001b[0m                         Traceback (most recent call last)",
      "\u001b[0;32m<ipython-input-64-1d0f8aa9bd24>\u001b[0m in \u001b[0;36m<module>\u001b[0;34m()\u001b[0m\n\u001b[1;32m     39\u001b[0m         iterate_minibatches(desc_ts,title_ts,nontext_tr,target_ts,batchsize=batch_size,shuffle=True)):\n\u001b[1;32m     40\u001b[0m         \u001b[0;32mif\u001b[0m \u001b[0mj\u001b[0m \u001b[0;34m>\u001b[0m \u001b[0mminibatches_per_epoch\u001b[0m\u001b[0;34m:\u001b[0m \u001b[0;32mbreak\u001b[0m\u001b[0;34m\u001b[0m\u001b[0m\n\u001b[0;32m---> 41\u001b[0;31m         \u001b[0mloss\u001b[0m\u001b[0;34m,\u001b[0m\u001b[0mpred_probas\u001b[0m \u001b[0;34m=\u001b[0m \u001b[0meval_fun\u001b[0m\u001b[0;34m(\u001b[0m\u001b[0mb_desc\u001b[0m\u001b[0;34m,\u001b[0m\u001b[0mb_title\u001b[0m\u001b[0;34m,\u001b[0m\u001b[0mb_cat\u001b[0m\u001b[0;34m,\u001b[0m\u001b[0mb_y\u001b[0m\u001b[0;34m)\u001b[0m\u001b[0;34m\u001b[0m\u001b[0m\n\u001b[0m\u001b[1;32m     42\u001b[0m \u001b[0;34m\u001b[0m\u001b[0m\n\u001b[1;32m     43\u001b[0m         \u001b[0mb_loss\u001b[0m \u001b[0;34m+=\u001b[0m \u001b[0mloss\u001b[0m\u001b[0;34m\u001b[0m\u001b[0m\n",
      "\u001b[0;32m/usr/local/lib/python3.4/dist-packages/theano/compile/function_module.py\u001b[0m in \u001b[0;36m__call__\u001b[0;34m(self, *args, **kwargs)\u001b[0m\n\u001b[1;32m    871\u001b[0m         \u001b[0;32mtry\u001b[0m\u001b[0;34m:\u001b[0m\u001b[0;34m\u001b[0m\u001b[0m\n\u001b[1;32m    872\u001b[0m             \u001b[0moutputs\u001b[0m \u001b[0;34m=\u001b[0m\u001b[0;31m\\\u001b[0m\u001b[0;34m\u001b[0m\u001b[0m\n\u001b[0;32m--> 873\u001b[0;31m                 \u001b[0mself\u001b[0m\u001b[0;34m.\u001b[0m\u001b[0mfn\u001b[0m\u001b[0;34m(\u001b[0m\u001b[0;34m)\u001b[0m \u001b[0;32mif\u001b[0m \u001b[0moutput_subset\u001b[0m \u001b[0;32mis\u001b[0m \u001b[0;32mNone\u001b[0m \u001b[0;32melse\u001b[0m\u001b[0;31m\\\u001b[0m\u001b[0;34m\u001b[0m\u001b[0m\n\u001b[0m\u001b[1;32m    874\u001b[0m                 \u001b[0mself\u001b[0m\u001b[0;34m.\u001b[0m\u001b[0mfn\u001b[0m\u001b[0;34m(\u001b[0m\u001b[0moutput_subset\u001b[0m\u001b[0;34m=\u001b[0m\u001b[0moutput_subset\u001b[0m\u001b[0;34m)\u001b[0m\u001b[0;34m\u001b[0m\u001b[0m\n\u001b[1;32m    875\u001b[0m         \u001b[0;32mexcept\u001b[0m \u001b[0mException\u001b[0m\u001b[0;34m:\u001b[0m\u001b[0;34m\u001b[0m\u001b[0m\n",
      "\u001b[0;32m/usr/local/lib/python3.4/dist-packages/theano/scan_module/scan_op.py\u001b[0m in \u001b[0;36mrval\u001b[0;34m(p, i, o, n, allow_gc)\u001b[0m\n\u001b[1;32m    949\u001b[0m         \u001b[0mallow_gc\u001b[0m \u001b[0;34m=\u001b[0m \u001b[0mconfig\u001b[0m\u001b[0;34m.\u001b[0m\u001b[0mallow_gc\u001b[0m \u001b[0;32mand\u001b[0m \u001b[0;32mnot\u001b[0m \u001b[0mself\u001b[0m\u001b[0;34m.\u001b[0m\u001b[0mallow_gc\u001b[0m\u001b[0;34m\u001b[0m\u001b[0m\n\u001b[1;32m    950\u001b[0m \u001b[0;34m\u001b[0m\u001b[0m\n\u001b[0;32m--> 951\u001b[0;31m         def rval(p=p, i=node_input_storage, o=node_output_storage, n=node,\n\u001b[0m\u001b[1;32m    952\u001b[0m                  allow_gc=allow_gc):\n\u001b[1;32m    953\u001b[0m             \u001b[0mr\u001b[0m \u001b[0;34m=\u001b[0m \u001b[0mp\u001b[0m\u001b[0;34m(\u001b[0m\u001b[0mn\u001b[0m\u001b[0;34m,\u001b[0m \u001b[0;34m[\u001b[0m\u001b[0mx\u001b[0m\u001b[0;34m[\u001b[0m\u001b[0;36m0\u001b[0m\u001b[0;34m]\u001b[0m \u001b[0;32mfor\u001b[0m \u001b[0mx\u001b[0m \u001b[0;32min\u001b[0m \u001b[0mi\u001b[0m\u001b[0;34m]\u001b[0m\u001b[0;34m,\u001b[0m \u001b[0mo\u001b[0m\u001b[0;34m)\u001b[0m\u001b[0;34m\u001b[0m\u001b[0m\n",
      "\u001b[0;31mKeyboardInterrupt\u001b[0m: "
     ]
    }
   ],
   "source": [
    "from sklearn.metrics import roc_auc_score, accuracy_score\n",
    "\n",
    "n_epochs = 100\n",
    "batch_size = 100\n",
    "minibatches_per_epoch = 100\n",
    "\n",
    "for i in range(n_epochs):\n",
    "    #training\n",
    "    epoch_y_true = []\n",
    "    epoch_y_pred = []\n",
    "    \n",
    "    b_c = b_loss = 0\n",
    "    for j, (b_desc,b_title,b_cat, b_y) in enumerate(\n",
    "        iterate_minibatches(desc_tr,title_tr,nontext_tr,target_tr,batchsize=batch_size,shuffle=True)):\n",
    "        if j > minibatches_per_epoch:break\n",
    "            \n",
    "        loss,pred_probas = train_fun(b_desc,b_title,b_cat,b_y)\n",
    "        \n",
    "        b_loss += loss\n",
    "        b_c +=1\n",
    "        \n",
    "        epoch_y_true.append(b_y)\n",
    "        epoch_y_pred.append(pred_probas)\n",
    "    \n",
    "    epoch_y_true = np.concatenate(epoch_y_true)\n",
    "    epoch_y_pred = np.concatenate(epoch_y_pred)\n",
    "    \n",
    "    print (\"Train:\")\n",
    "    print ('\\tloss:',b_loss/b_c)\n",
    "    print ('\\tacc:',accuracy_score(epoch_y_true,epoch_y_pred>0.))\n",
    "    print ('\\tauc:',roc_auc_score(epoch_y_true,epoch_y_pred))\n",
    "    print ('\\tap@k:',APatK(epoch_y_true,epoch_y_pred,K = int(len(epoch_y_pred)*0.025)+1))\n",
    "    \n",
    "    #evaluation\n",
    "    epoch_y_true = []\n",
    "    epoch_y_pred = []\n",
    "    b_c = b_loss = 0\n",
    "    for j, (b_desc,b_title,b_cat, b_y) in enumerate(\n",
    "        iterate_minibatches(desc_ts,title_ts,nontext_tr,target_ts,batchsize=batch_size,shuffle=True)):\n",
    "        if j > minibatches_per_epoch: break\n",
    "        loss,pred_probas = eval_fun(b_desc,b_title,b_cat,b_y)\n",
    "        \n",
    "        b_loss += loss\n",
    "        b_c +=1\n",
    "        \n",
    "        epoch_y_true.append(b_y)\n",
    "        epoch_y_pred.append(pred_probas)\n",
    "\n",
    "    epoch_y_true = np.concatenate(epoch_y_true)\n",
    "    epoch_y_pred = np.concatenate(epoch_y_pred)\n",
    "    \n",
    "    print (\"Val:\")\n",
    "    print ('\\tloss:',b_loss/b_c)\n",
    "    print ('\\tacc:',accuracy_score(epoch_y_true,epoch_y_pred>0.))\n",
    "    print ('\\tauc:',roc_auc_score(epoch_y_true,epoch_y_pred))\n",
    "    print ('\\tap@k:',APatK(epoch_y_true,epoch_y_pred,K = int(len(epoch_y_pred)*0.025)+1))"
   ]
  },
  {
   "cell_type": "code",
   "execution_count": 65,
   "metadata": {
    "collapsed": false
   },
   "outputs": [
    {
     "name": "stdout",
     "output_type": "stream",
     "text": [
      "If you are seeing this, it's time to backup your notebook. No, really, 'tis too easy to mess up everything without noticing. \n"
     ]
    }
   ],
   "source": [
    "print(\"If you are seeing this, it's time to backup your notebook. No, really, 'tis too easy to mess up everything without noticing. \")"
   ]
  },
  {
   "cell_type": "markdown",
   "metadata": {},
   "source": [
    "# Final evaluation\n",
    "Evaluate network over the entire test set"
   ]
  },
  {
   "cell_type": "code",
   "execution_count": null,
   "metadata": {
    "collapsed": false
   },
   "outputs": [],
   "source": [
    "#evaluation\n",
    "epoch_y_true = []\n",
    "epoch_y_pred = []\n",
    "\n",
    "b_c = b_loss = 0\n",
    "for j, (b_desc,b_title,b_cat, b_y) in enumerate(\n",
    "    iterate_minibatches(desc_ts,title_ts,nontext_tr,target_ts,batchsize=batch_size,shuffle=True)):\n",
    "    loss,pred_probas = eval_fun(b_desc,b_title,b_cat,b_y)\n",
    "\n",
    "    b_loss += loss\n",
    "    b_c +=1\n",
    "\n",
    "    epoch_y_true.append(b_y)\n",
    "    epoch_y_pred.append(pred_probas)\n",
    "\n",
    "\n",
    "epoch_y_true = np.concatenate(epoch_y_true)\n",
    "epoch_y_pred = np.concatenate(epoch_y_pred)\n",
    "\n",
    "final_accuracy = accuracy_score(epoch_y_true,epoch_y_pred>0)\n",
    "final_auc = roc_auc_score(epoch_y_true,epoch_y_pred)\n",
    "final_apatk = APatK(epoch_y_true,epoch_y_pred,K = int(len(epoch_y_pred)*0.025)+1)\n",
    "\n",
    "print \"Scores:\"\n",
    "print '\\tloss:',b_loss/b_c\n",
    "print '\\tacc:',final_accuracy\n",
    "print '\\tauc:',final_auc\n",
    "print '\\tap@k:',final_apatk\n",
    "score(final_accuracy,final_auc,final_apatk)"
   ]
  },
  {
   "cell_type": "markdown",
   "metadata": {},
   "source": [
    "# Main task\n",
    "\n",
    "* https://goo.gl/forms/eJwIeAbjxzVuo6vn1\n",
    "* Feel like Le'Cun:\n",
    " * accuracy > 0.95\n",
    " * AUC > 0.97\n",
    " * Average Precision at (test sample size * 0.025) > 0.99\n",
    " * And perhaps even farther\n",
    "\n",
    "* Casual mode\n",
    " * accuracy > 0.90\n",
    " * AUC > 0.95\n",
    " * Average Precision at (test sample size * 0.025) > 0.92\n",
    "\n",
    "* Remember the training, Luke\n",
    " * Dropout, regularization\n",
    " * Mommentum, RMSprop, ada*\n",
    " * etc etc etc\n",
    " \n",
    " * If you have background in texts, there may be a way to improve tokenizer, add some lemmatization, etc etc.\n",
    " * In case you know how not to shoot yourself in the foot with RNNs, they too may be of some use."
   ]
  },
  {
   "cell_type": "code",
   "execution_count": null,
   "metadata": {
    "collapsed": true
   },
   "outputs": [],
   "source": []
  }
 ],
 "metadata": {
  "kernelspec": {
   "display_name": "Python 3",
   "language": "python",
   "name": "python3"
  },
  "language_info": {
   "codemirror_mode": {
    "name": "ipython",
    "version": 3
   },
   "file_extension": ".py",
   "mimetype": "text/x-python",
   "name": "python",
   "nbconvert_exporter": "python",
   "pygments_lexer": "ipython3",
   "version": "3.4.3"
  }
 },
 "nbformat": 4,
 "nbformat_minor": 0
}
